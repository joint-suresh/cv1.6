{
 "cells": [
  {
   "cell_type": "code",
   "execution_count": 1,
   "id": "2d14aab4",
   "metadata": {},
   "outputs": [],
   "source": [
    "import tensorflow as tf\n",
    "import tensorflow_datasets as tfds\n",
    "from tensorflow.keras import layers, models\n",
    "import matplotlib.pyplot as plt"
   ]
  },
  {
   "cell_type": "code",
   "execution_count": null,
   "id": "aebec102",
   "metadata": {},
   "outputs": [],
   "source": [
    "# import tensorflow_datasets as tfds\n",
    "\n",
    "# # Path to where TFDS stores datasets (adjust if needed)\n",
    "# data_dir = r\"C:\\Users\\SRIRAM\\tensorflow_datasets\"\n",
    "\n",
    "# # Load from local directory only — skip download\n",
    "# data, info = tfds.load(\n",
    "#     'coco_captions',\n",
    "#     split=['train[:1%]', 'validation[:1%]'],  # can use full train/validation too\n",
    "#     with_info=True,\n",
    "#     as_supervised=False,\n",
    "#     data_dir=data_dir,\n",
    "#     download=False   # 🚫 prevents TFDS from trying to re-download\n",
    "# )\n",
    "\n",
    "# train_ds, val_ds = data\n",
    "\n",
    "# print(\"Dataset loaded locally from:\", data_dir)\n",
    "# print(\"Train examples:\", info.splits['train'].num_examples)\n",
    "# print(\"Validation examples:\", info.splits['validation'].num_examples)\n"
   ]
  },
  {
   "cell_type": "code",
   "execution_count": null,
   "id": "b00fc654",
   "metadata": {},
   "outputs": [
    {
     "name": "stderr",
     "output_type": "stream",
     "text": [
      "WARNING:absl:Variant folder C:\\Users\\USER\\tensorflow_datasets\\coco_captions\\2014\\1.1.0 has no dataset_info.json\n"
     ]
    },
    {
     "name": "stdout",
     "output_type": "stream",
     "text": [
      "\u001b[1mDownloading and preparing dataset Unknown size (download: Unknown size, generated: Unknown size, total: Unknown size) to C:\\Users\\USER\\tensorflow_datasets\\coco_captions\\2014\\1.1.0...\u001b[0m\n"
     ]
    },
    {
     "data": {
      "application/vnd.jupyter.widget-view+json": {
       "model_id": "a0736b8bbe6d496c8167f3b6b070bf68",
       "version_major": 2,
       "version_minor": 0
      },
      "text/plain": [
       "Dl Completed...: 0 url [00:00, ? url/s]"
      ]
     },
     "metadata": {},
     "output_type": "display_data"
    },
    {
     "data": {
      "application/vnd.jupyter.widget-view+json": {
       "model_id": "f1507e219c3449abb8cba1fd4a474bb0",
       "version_major": 2,
       "version_minor": 0
      },
      "text/plain": [
       "Dl Size...: 0 MiB [00:00, ? MiB/s]"
      ]
     },
     "metadata": {},
     "output_type": "display_data"
    },
    {
     "data": {
      "application/vnd.jupyter.widget-view+json": {
       "model_id": "d545e75b48fe4c3e8b55600a8dc17b9b",
       "version_major": 2,
       "version_minor": 0
      },
      "text/plain": [
       "Extraction completed...: 0 file [00:00, ? file/s]"
      ]
     },
     "metadata": {},
     "output_type": "display_data"
    }
   ],
   "source": [
    "# a) Load dataset\n",
    "data, info = tfds.load('coco_captions', with_info=True, as_supervised=False)\n",
    "\n",
    "train_ds = data['train']\n",
    "val_ds = data['validation']\n",
    "\n",
    "# b) Show number of images\n",
    "print(\"Training images:\", info.splits['train'].num_examples)\n",
    "print(\"Validation images:\", info.splits['validation'].num_examples)\n"
   ]
  },
  {
   "cell_type": "code",
   "execution_count": null,
   "id": "35702d0a",
   "metadata": {},
   "outputs": [],
   "source": [
    "# import tensorflow_datasets as tfds\n",
    "\n",
    "# data, info = tfds.load(\n",
    "#     'coco_captions',\n",
    "#     split=['train[:1%]', 'validation[:1%]'],  # load just 1%\n",
    "#     with_info=True,\n",
    "#     as_supervised=False\n",
    "# )\n",
    "\n",
    "# train_ds, val_ds = data\n",
    "# print(\"Train examples:\", info.splits['train'].num_examples * 0.01)\n",
    "# print(\"Val examples:\", info.splits['validation'].num_examples * 0.01)\n"
   ]
  },
  {
   "cell_type": "code",
   "execution_count": null,
   "id": "9c01f172",
   "metadata": {},
   "outputs": [],
   "source": [
    "# c) Plot sample images\n",
    "plt.figure(figsize=(8, 8))\n",
    "for i, sample in enumerate(train_ds.take(6)):\n",
    "    image = sample['image']\n",
    "    plt.subplot(2, 3, i+1)\n",
    "    plt.imshow(image)\n",
    "    plt.axis(\"off\")\n",
    "plt.show()\n"
   ]
  },
  {
   "cell_type": "code",
   "execution_count": null,
   "id": "07919399",
   "metadata": {},
   "outputs": [],
   "source": [
    "# f) Normalize images\n",
    "def preprocess(image):\n",
    "    image = tf.image.resize(image, (128, 128))\n",
    "    image = tf.cast(image, tf.float32) / 255.0\n",
    "    return image\n",
    "\n",
    "train_images = train_ds.map(lambda x: preprocess(x['image'])).batch(32)\n",
    "val_images = val_ds.map(lambda x: preprocess(x['image'])).batch(32)\n"
   ]
  },
  {
   "cell_type": "code",
   "execution_count": null,
   "id": "4881e035",
   "metadata": {},
   "outputs": [],
   "source": [
    "# g) Build CNN model\n",
    "model = models.Sequential([\n",
    "    layers.Conv2D(32, (3,3), activation='relu', input_shape=(128,128,3)),\n",
    "    layers.MaxPooling2D(2,2),\n",
    "    layers.Conv2D(64, (3,3), activation='relu'),\n",
    "    layers.MaxPooling2D(2,2),\n",
    "    layers.Flatten(),\n",
    "    layers.Dense(64, activation='relu'),\n",
    "    layers.Dense(10, activation='softmax')  # Dummy 10-class output\n",
    "])\n",
    "\n",
    "model.compile(optimizer='adam', loss='sparse_categorical_crossentropy', metrics=['accuracy'])\n",
    "\n",
    "# h) Train and evaluate\n",
    "history = model.fit(train_images, validation_data=val_images, epochs=2)\n"
   ]
  },
  {
   "cell_type": "code",
   "execution_count": null,
   "id": "99de0d0c",
   "metadata": {},
   "outputs": [],
   "source": [
    "# d) Augmentation\n",
    "data_augmentation = tf.keras.Sequential([\n",
    "    layers.RandomFlip(\"horizontal_and_vertical\"),\n",
    "    layers.RandomRotation(0.2),\n",
    "    layers.RandomContrast(0.3)\n",
    "])\n",
    "\n",
    "aug_train_ds = train_ds.map(lambda x: (data_augmentation(x['image']),))\n",
    "aug_train_images = aug_train_ds.map(lambda x: preprocess(x[0])).batch(32)\n",
    "\n",
    "print(\"After augmentation:\")\n",
    "print(\"Training images (approx):\", info.splits['train'].num_examples)\n",
    "print(\"Validation images:\", info.splits['validation'].num_examples)\n"
   ]
  },
  {
   "cell_type": "code",
   "execution_count": null,
   "id": "8c5b3986",
   "metadata": {},
   "outputs": [],
   "source": [
    "# i + j) Rebuild CNN (same architecture for fair comparison)\n",
    "aug_model = models.clone_model(model)\n",
    "aug_model.compile(optimizer='adam', loss='sparse_categorical_crossentropy', metrics=['accuracy'])\n",
    "\n",
    "aug_history = aug_model.fit(aug_train_images, validation_data=val_images, epochs=2)\n"
   ]
  },
  {
   "cell_type": "code",
   "execution_count": null,
   "id": "88e13d6f",
   "metadata": {},
   "outputs": [],
   "source": [
    "# k) Compare before and after augmentation\n",
    "plt.plot(history.history['accuracy'], label='Before Aug')\n",
    "plt.plot(aug_history.history['accuracy'], label='After Aug')\n",
    "plt.title('Training Accuracy Comparison')\n",
    "plt.legend()\n",
    "plt.show()\n"
   ]
  },
  {
   "cell_type": "code",
   "execution_count": null,
   "id": "ab6c647f",
   "metadata": {},
   "outputs": [],
   "source": []
  }
 ],
 "metadata": {
  "kernelspec": {
   "display_name": "Python 3",
   "language": "python",
   "name": "python3"
  },
  "language_info": {
   "codemirror_mode": {
    "name": "ipython",
    "version": 3
   },
   "file_extension": ".py",
   "mimetype": "text/x-python",
   "name": "python",
   "nbconvert_exporter": "python",
   "pygments_lexer": "ipython3",
   "version": "3.11.9"
  }
 },
 "nbformat": 4,
 "nbformat_minor": 5
}
